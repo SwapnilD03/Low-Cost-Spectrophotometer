{
 "cells": [
  {
   "cell_type": "code",
   "execution_count": 1,
   "id": "0ffbbb9f",
   "metadata": {},
   "outputs": [
    {
     "name": "stderr",
     "output_type": "stream",
     "text": [
      "C:\\Users\\SWAPNIL\\AppData\\Roaming\\Python\\Python39\\site-packages\\matplotlib\\projections\\__init__.py:63: UserWarning: Unable to import Axes3D. This may be due to multiple versions of Matplotlib being installed (e.g. as a system package and as a pip package). As a result, the 3D projection is not available.\n",
      "  warnings.warn(\"Unable to import Axes3D. This may be due to multiple versions of \"\n"
     ]
    }
   ],
   "source": [
    "import matplotlib.pyplot as plt"
   ]
  },
  {
   "cell_type": "code",
   "execution_count": 2,
   "id": "24fc87de",
   "metadata": {},
   "outputs": [
    {
     "name": "stdout",
     "output_type": "stream",
     "text": [
      "WARNING:tensorflow:From C:\\Users\\SWAPNIL\\AppData\\Roaming\\Python\\Python39\\site-packages\\keras\\src\\losses.py:2976: The name tf.losses.sparse_softmax_cross_entropy is deprecated. Please use tf.compat.v1.losses.sparse_softmax_cross_entropy instead.\n",
      "\n"
     ]
    }
   ],
   "source": [
    "import tensorflow as tf\n",
    "from tensorflow.keras import models,layers"
   ]
  },
  {
   "cell_type": "code",
   "execution_count": 3,
   "id": "c216ceaf",
   "metadata": {},
   "outputs": [
    {
     "name": "stdout",
     "output_type": "stream",
     "text": [
      "Found 5858 files belonging to 4 classes.\n"
     ]
    }
   ],
   "source": [
    "Width=135\n",
    "Height=85\n",
    "BATCH_SIZE=64\n",
    "CHANNELS=3\n",
    "EPOCHS=30\n",
    "\n",
    "dataset=tf.keras.preprocessing.image_dataset_from_directory(\n",
    "    \"Oil Ageing\",\n",
    "    shuffle=True,\n",
    "    image_size=(Width,Height),\n",
    "    batch_size=BATCH_SIZE\n",
    ")"
   ]
  },
  {
   "cell_type": "code",
   "execution_count": 4,
   "id": "eb176b2d",
   "metadata": {},
   "outputs": [
    {
     "data": {
      "text/plain": [
       "['Fresh', 'Highly Aged', 'Lightly Aged', 'Moderately Aged']"
      ]
     },
     "execution_count": 4,
     "metadata": {},
     "output_type": "execute_result"
    }
   ],
   "source": [
    "class_names=dataset.class_names\n",
    "class_names"
   ]
  },
  {
   "cell_type": "code",
   "execution_count": 5,
   "id": "d50384c4",
   "metadata": {},
   "outputs": [],
   "source": [
    "def get_datset_partitions_tf(ds,train_split=0.7,val_split=0.15,shuffle=True,shuffle_size=10000):\n",
    "    ds_size=len(ds)\n",
    "    if shuffle:\n",
    "        ds=ds.shuffle(shuffle_size,seed=12)\n",
    "    train_size=int(train_split*ds_size)\n",
    "    val_size=int(val_split*ds_size)\n",
    "    train_ds=ds.take(train_size)\n",
    "    val_ds=ds.skip(train_size).take(val_size)\n",
    "    test_ds=ds.skip(train_size).skip(val_size)\n",
    "    return train_ds,val_ds,test_ds"
   ]
  },
  {
   "cell_type": "code",
   "execution_count": 6,
   "id": "6769a5e5",
   "metadata": {},
   "outputs": [],
   "source": [
    "train_ds,val_ds,test_ds=get_datset_partitions_tf(dataset)"
   ]
  },
  {
   "cell_type": "code",
   "execution_count": 7,
   "id": "d56eac7f",
   "metadata": {},
   "outputs": [],
   "source": [
    "train_ds=train_ds.cache().shuffle(1000).prefetch(buffer_size=tf.data.AUTOTUNE)\n",
    "val_ds=val_ds.cache().shuffle(1000).prefetch(buffer_size=tf.data.AUTOTUNE)\n",
    "TEST_ds=test_ds.cache().shuffle(1000).prefetch(buffer_size=tf.data.AUTOTUNE)"
   ]
  },
  {
   "cell_type": "code",
   "execution_count": 8,
   "id": "ac23627d",
   "metadata": {},
   "outputs": [
    {
     "name": "stdout",
     "output_type": "stream",
     "text": [
      "WARNING:tensorflow:From C:\\Users\\SWAPNIL\\AppData\\Roaming\\Python\\Python39\\site-packages\\keras\\src\\backend.py:873: The name tf.get_default_graph is deprecated. Please use tf.compat.v1.get_default_graph instead.\n",
      "\n"
     ]
    }
   ],
   "source": [
    "resize_and_rescale=tf.keras.Sequential ([\n",
    "    layers.Resizing(256,256),\n",
    "    layers.Rescaling(1.0/255)\n",
    "])"
   ]
  },
  {
   "cell_type": "code",
   "execution_count": 9,
   "id": "75c34109",
   "metadata": {},
   "outputs": [
    {
     "name": "stdout",
     "output_type": "stream",
     "text": [
      "WARNING:tensorflow:From C:\\Users\\SWAPNIL\\AppData\\Roaming\\Python\\Python39\\site-packages\\keras\\src\\layers\\pooling\\max_pooling2d.py:161: The name tf.nn.max_pool is deprecated. Please use tf.nn.max_pool2d instead.\n",
      "\n"
     ]
    }
   ],
   "source": [
    "n_classes=4 \n",
    "INPUT_SHAPE=(BATCH_SIZE,256,256,CHANNELS)\n",
    "model=models.Sequential([\n",
    "    resize_and_rescale,\n",
    "    layers.Conv2D(32,(3,3),activation='relu',input_shape=INPUT_SHAPE),\n",
    "    layers.MaxPooling2D((2,2)),\n",
    "    layers.Conv2D(64,kernel_size=(3,3),activation='relu'),\n",
    "    layers.MaxPooling2D((2,2)),\n",
    "    layers.Conv2D(64,kernel_size=(3,3),activation='relu'),\n",
    "    layers.MaxPooling2D((2,2)),\n",
    "    layers.Conv2D(64,(3,3),activation='relu'),\n",
    "    layers.MaxPooling2D((2,2)),\n",
    "    layers.Conv2D(64,(3,3),activation='relu'),\n",
    "    layers.MaxPooling2D((2,2)),\n",
    "    layers.Conv2D(64,(3,3),activation='relu'),\n",
    "    layers.MaxPooling2D((2,2)),\n",
    "    layers.Flatten(),\n",
    "    layers.Dense(64,activation='relu'),\n",
    "    layers.Dense(n_classes,activation='softmax'),\n",
    "])\n",
    "\n",
    "model.build(input_shape=INPUT_SHAPE)"
   ]
  },
  {
   "cell_type": "code",
   "execution_count": 10,
   "id": "33bbef1d",
   "metadata": {},
   "outputs": [
    {
     "name": "stdout",
     "output_type": "stream",
     "text": [
      "Model: \"sequential_1\"\n",
      "_________________________________________________________________\n",
      " Layer (type)                Output Shape              Param #   \n",
      "=================================================================\n",
      " sequential (Sequential)     (64, 256, 256, 3)         0         \n",
      "                                                                 \n",
      " conv2d (Conv2D)             (64, 254, 254, 32)        896       \n",
      "                                                                 \n",
      " max_pooling2d (MaxPooling2  (64, 127, 127, 32)        0         \n",
      " D)                                                              \n",
      "                                                                 \n",
      " conv2d_1 (Conv2D)           (64, 125, 125, 64)        18496     \n",
      "                                                                 \n",
      " max_pooling2d_1 (MaxPoolin  (64, 62, 62, 64)          0         \n",
      " g2D)                                                            \n",
      "                                                                 \n",
      " conv2d_2 (Conv2D)           (64, 60, 60, 64)          36928     \n",
      "                                                                 \n",
      " max_pooling2d_2 (MaxPoolin  (64, 30, 30, 64)          0         \n",
      " g2D)                                                            \n",
      "                                                                 \n",
      " conv2d_3 (Conv2D)           (64, 28, 28, 64)          36928     \n",
      "                                                                 \n",
      " max_pooling2d_3 (MaxPoolin  (64, 14, 14, 64)          0         \n",
      " g2D)                                                            \n",
      "                                                                 \n",
      " conv2d_4 (Conv2D)           (64, 12, 12, 64)          36928     \n",
      "                                                                 \n",
      " max_pooling2d_4 (MaxPoolin  (64, 6, 6, 64)            0         \n",
      " g2D)                                                            \n",
      "                                                                 \n",
      " conv2d_5 (Conv2D)           (64, 4, 4, 64)            36928     \n",
      "                                                                 \n",
      " max_pooling2d_5 (MaxPoolin  (64, 2, 2, 64)            0         \n",
      " g2D)                                                            \n",
      "                                                                 \n",
      " flatten (Flatten)           (64, 256)                 0         \n",
      "                                                                 \n",
      " dense (Dense)               (64, 64)                  16448     \n",
      "                                                                 \n",
      " dense_1 (Dense)             (64, 4)                   260       \n",
      "                                                                 \n",
      "=================================================================\n",
      "Total params: 183812 (718.02 KB)\n",
      "Trainable params: 183812 (718.02 KB)\n",
      "Non-trainable params: 0 (0.00 Byte)\n",
      "_________________________________________________________________\n"
     ]
    }
   ],
   "source": [
    "model.summary()"
   ]
  },
  {
   "cell_type": "code",
   "execution_count": 11,
   "id": "8d3f7663",
   "metadata": {},
   "outputs": [
    {
     "name": "stdout",
     "output_type": "stream",
     "text": [
      "WARNING:tensorflow:From C:\\Users\\SWAPNIL\\AppData\\Roaming\\Python\\Python39\\site-packages\\keras\\src\\optimizers\\__init__.py:309: The name tf.train.Optimizer is deprecated. Please use tf.compat.v1.train.Optimizer instead.\n",
      "\n"
     ]
    }
   ],
   "source": [
    "model.compile(\n",
    "    optimizer='adam',\n",
    "    loss=tf.keras.losses.SparseCategoricalCrossentropy(from_logits=False),\n",
    "    metrics=['accuracy']\n",
    ")"
   ]
  },
  {
   "cell_type": "code",
   "execution_count": null,
   "id": "a1980332",
   "metadata": {},
   "outputs": [
    {
     "name": "stdout",
     "output_type": "stream",
     "text": [
      "Epoch 1/30\n",
      "WARNING:tensorflow:From C:\\Users\\SWAPNIL\\AppData\\Roaming\\Python\\Python39\\site-packages\\keras\\src\\utils\\tf_utils.py:492: The name tf.ragged.RaggedTensorValue is deprecated. Please use tf.compat.v1.ragged.RaggedTensorValue instead.\n",
      "\n",
      "WARNING:tensorflow:From C:\\Users\\SWAPNIL\\AppData\\Roaming\\Python\\Python39\\site-packages\\keras\\src\\engine\\base_layer_utils.py:384: The name tf.executing_eagerly_outside_functions is deprecated. Please use tf.compat.v1.executing_eagerly_outside_functions instead.\n",
      "\n",
      "64/64 [==============================] - 119s 2s/step - loss: 0.8224 - accuracy: 0.6067 - val_loss: 0.5696 - val_accuracy: 0.7019\n",
      "Epoch 2/30\n",
      "64/64 [==============================] - 131s 2s/step - loss: 0.4312 - accuracy: 0.8151 - val_loss: 0.2633 - val_accuracy: 0.9038\n",
      "Epoch 3/30\n",
      "64/64 [==============================] - 109s 2s/step - loss: 0.2753 - accuracy: 0.8817 - val_loss: 0.1674 - val_accuracy: 0.9435\n",
      "Epoch 4/30\n",
      "64/64 [==============================] - 131s 2s/step - loss: 0.2055 - accuracy: 0.9147 - val_loss: 0.2608 - val_accuracy: 0.8846\n",
      "Epoch 5/30\n",
      "64/64 [==============================] - 119s 2s/step - loss: 0.1032 - accuracy: 0.9611 - val_loss: 0.0599 - val_accuracy: 0.9820\n",
      "Epoch 6/30\n",
      "64/64 [==============================] - 115s 2s/step - loss: 0.0451 - accuracy: 0.9855 - val_loss: 0.0901 - val_accuracy: 0.9688\n",
      "Epoch 7/30\n",
      "64/64 [==============================] - 111s 2s/step - loss: 0.1135 - accuracy: 0.9567 - val_loss: 0.0382 - val_accuracy: 0.9856\n",
      "Epoch 8/30\n",
      "64/64 [==============================] - 111s 2s/step - loss: 0.0311 - accuracy: 0.9899 - val_loss: 0.0191 - val_accuracy: 0.9940\n",
      "Epoch 9/30\n",
      "64/64 [==============================] - 108s 2s/step - loss: 0.0336 - accuracy: 0.9875 - val_loss: 0.0271 - val_accuracy: 0.9880\n",
      "Epoch 10/30\n",
      "64/64 [==============================] - 127s 2s/step - loss: 0.0517 - accuracy: 0.9803 - val_loss: 0.0322 - val_accuracy: 0.9940\n",
      "Epoch 11/30\n",
      "64/64 [==============================] - 124s 2s/step - loss: 0.0426 - accuracy: 0.9870 - val_loss: 0.0418 - val_accuracy: 0.9856\n",
      "Epoch 12/30\n",
      "64/64 [==============================] - 116s 2s/step - loss: 0.0428 - accuracy: 0.9830 - val_loss: 0.0279 - val_accuracy: 0.9868\n",
      "Epoch 13/30\n",
      "64/64 [==============================] - 114s 2s/step - loss: 0.0182 - accuracy: 0.9941 - val_loss: 0.0200 - val_accuracy: 0.9904\n",
      "Epoch 14/30\n",
      "64/64 [==============================] - 130s 2s/step - loss: 0.0934 - accuracy: 0.9693 - val_loss: 0.0756 - val_accuracy: 0.9712\n",
      "Epoch 15/30\n",
      "43/64 [===================>..........] - ETA: 34s - loss: 0.0250 - accuracy: 0.9930"
     ]
    }
   ],
   "source": [
    "history=model.fit(\n",
    "    train_ds,\n",
    "    epochs=EPOCHS,\n",
    "    batch_size=BATCH_SIZE,\n",
    "    verbose=1,\n",
    "    validation_data=val_ds\n",
    ")"
   ]
  },
  {
   "cell_type": "code",
   "execution_count": null,
   "id": "a08e98f9",
   "metadata": {},
   "outputs": [],
   "source": [
    "history.history.keys()"
   ]
  },
  {
   "cell_type": "code",
   "execution_count": null,
   "id": "ad2ef909",
   "metadata": {},
   "outputs": [],
   "source": [
    "acc=history.history['accuracy']\n",
    "val_acc=history.history['val_accuracy']\n",
    "\n",
    "loss=history.history['loss']\n",
    "val_loss=history.history['val_loss']"
   ]
  },
  {
   "cell_type": "code",
   "execution_count": null,
   "id": "97174ca9",
   "metadata": {},
   "outputs": [],
   "source": [
    "plt.figure(figsize=(8,8))\n",
    "plt.subplot(1,2,1)\n",
    "plt.plot(range(EPOCHS),acc,label='Training Accuracy')\n",
    "plt.plot(range(EPOCHS),val_acc,label='Validation Accuracy')\n",
    "plt.legend(loc='lower right')\n",
    "plt.title('Training and Validation Accuracy')\n",
    "\n",
    "plt.subplot(1,2,2)\n",
    "plt.plot(range(EPOCHS),loss,label='Training Loss')\n",
    "plt.plot(range(EPOCHS),val_loss,label='Validation Loss')\n",
    "plt.legend(loc='upper right')\n",
    "plt.title('Training and Validation Loss')\n",
    "plt.show()"
   ]
  },
  {
   "cell_type": "code",
   "execution_count": null,
   "id": "479ff5f4",
   "metadata": {},
   "outputs": [],
   "source": [
    "import numpy as np\n",
    "for images_batch,labels_batch in test_ds.take(1):\n",
    "    first_image=images_batch[0].numpy().astype('uint8')\n",
    "    first_label=labels_batch[0]\n",
    "    \n",
    "    print(\"First image to predict\")\n",
    "    plt.imshow(first_image)\n",
    "    print(\"First image's actual label : \",class_names[first_label])\n",
    "    \n",
    "    batch_prediction=model.predict(images_batch)\n",
    "    print(np.argmax(batch_prediction[0]))"
   ]
  },
  {
   "cell_type": "code",
   "execution_count": null,
   "id": "bd841fe9",
   "metadata": {},
   "outputs": [],
   "source": [
    "def predict(model,img):\n",
    "    img_array=tf.keras.preprocessing.image.img_to_array(images[i].numpy())\n",
    "    img_array=tf.expand_dims(img_array,0)\n",
    "    \n",
    "    predictions=model.predict(img_array)\n",
    "    \n",
    "    predicted_class=class_names[np.argmax(predictions[0])]\n",
    "    confidence=round(100*(np.max(predictions[0])),2)\n",
    "    return predicted_class,confidence"
   ]
  },
  {
   "cell_type": "code",
   "execution_count": null,
   "id": "77f874c2",
   "metadata": {},
   "outputs": [],
   "source": [
    "plt.figure(figsize=(15,15))\n",
    "for images,labels in test_ds.take(1):\n",
    "    for i in range(9):\n",
    "        ax=plt.subplot(3,3,i+1)\n",
    "        plt.imshow(images[i].numpy().astype('uint8'))\n",
    "        \n",
    "        predicted_class,confidence=predict(model,images[i].numpy())\n",
    "        actual_class=class_names[labels[i]]\n",
    "        \n",
    "        plt.title(f\"Actual : {actual_class},\\n Predicted : {predicted_class} , \\n Confidence : {confidence} % \")\n",
    "        plt.axis('off')"
   ]
  },
  {
   "cell_type": "code",
   "execution_count": null,
   "id": "5f1ac9a4",
   "metadata": {},
   "outputs": [],
   "source": [
    "import h5py"
   ]
  },
  {
   "cell_type": "code",
   "execution_count": null,
   "id": "59fff2c0",
   "metadata": {},
   "outputs": [],
   "source": [
    "import os\n",
    "model.save(f\"../Models/1.keras\")"
   ]
  },
  {
   "cell_type": "code",
   "execution_count": null,
   "id": "46660fe4",
   "metadata": {},
   "outputs": [],
   "source": []
  }
 ],
 "metadata": {
  "kernelspec": {
   "display_name": "Python 3 (ipykernel)",
   "language": "python",
   "name": "python3"
  },
  "language_info": {
   "codemirror_mode": {
    "name": "ipython",
    "version": 3
   },
   "file_extension": ".py",
   "mimetype": "text/x-python",
   "name": "python",
   "nbconvert_exporter": "python",
   "pygments_lexer": "ipython3",
   "version": "3.9.13"
  }
 },
 "nbformat": 4,
 "nbformat_minor": 5
}
